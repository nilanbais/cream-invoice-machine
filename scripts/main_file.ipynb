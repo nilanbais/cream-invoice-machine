{
 "cells": [
  {
   "cell_type": "markdown",
   "metadata": {},
   "source": [
    "# CreamInvoinveMachine\n",
    "What's good homeboi\n"
   ]
  },
  {
   "cell_type": "markdown",
   "metadata": {},
   "source": [
    "## Voorwerk installatie dingtjes ja toch"
   ]
  },
  {
   "cell_type": "code",
   "execution_count": 1,
   "metadata": {},
   "outputs": [
    {
     "name": "stdout",
     "output_type": "stream",
     "text": [
      "Requirement already satisfied: fpdf2 in c:\\python312\\lib\\site-packages (2.8.1)\n",
      "Requirement already satisfied: defusedxml in c:\\python312\\lib\\site-packages (from fpdf2) (0.7.1)\n",
      "Requirement already satisfied: Pillow!=9.2.*,>=6.2.2 in c:\\python312\\lib\\site-packages (from fpdf2) (11.0.0)\n",
      "Requirement already satisfied: fonttools>=4.34.0 in c:\\python312\\lib\\site-packages (from fpdf2) (4.55.3)\n",
      "Note: you may need to restart the kernel to use updated packages.\n"
     ]
    },
    {
     "name": "stderr",
     "output_type": "stream",
     "text": [
      "\n",
      "[notice] A new release of pip is available: 24.0 -> 24.3.1\n",
      "[notice] To update, run: python.exe -m pip install --upgrade pip\n"
     ]
    }
   ],
   "source": [
    "%pip install fpdf2"
   ]
  },
  {
   "cell_type": "code",
   "execution_count": 2,
   "metadata": {},
   "outputs": [],
   "source": [
    "import os\n",
    "import fpdf"
   ]
  },
  {
   "cell_type": "markdown",
   "metadata": {},
   "source": [
    "## Paden klaarzetten"
   ]
  },
  {
   "cell_type": "code",
   "execution_count": 3,
   "metadata": {},
   "outputs": [],
   "source": [
    "from ref.invoice_class import InvoicePDF"
   ]
  },
  {
   "cell_type": "code",
   "execution_count": 4,
   "metadata": {},
   "outputs": [],
   "source": [
    "# Dynamische gegevens\n",
    "invoice_data = {\n",
    "    \"invoice_number\": \"20241214-001\",\n",
    "    \"date\": \"14-12-2024\",\n",
    "    \"customer_name\": \"Jan Jansen\",\n",
    "    \"customer_address\": \"Voorbeeldstraat 99, 1234 AB Plaatsnaam\",\n",
    "    \"items\": [\n",
    "        (\"Laptop\", 1, 999.99),\n",
    "        (\"Muis\", 2, 25.00),\n",
    "        (\"Toetsenbord\", 1, 50.00),\n",
    "        (\"Monitor\", 2, 200.00),\n",
    "    ]\n",
    "}\n",
    "\n",
    "# PDF genereren\n",
    "pdf = InvoicePDF()\n",
    "\n",
    "font_path = os.path.join('ref', \"DejaVuSans.ttf\")\n",
    "pdf.add_font(\"DejaVu\", style=\"\", fname=font_path)\n",
    "\n",
    "pdf.add_page()\n",
    "pdf.add_invoice_details(\n",
    "    invoice_data[\"invoice_number\"],\n",
    "    invoice_data[\"date\"],\n",
    "    invoice_data[\"customer_name\"],\n",
    "    invoice_data[\"customer_address\"]\n",
    ")\n",
    "pdf.add_table(invoice_data[\"items\"])\n",
    "pdf.output(\"factuur.pdf\")"
   ]
  }
 ],
 "metadata": {
  "kernelspec": {
   "display_name": "Python 3",
   "language": "python",
   "name": "python3"
  },
  "language_info": {
   "codemirror_mode": {
    "name": "ipython",
    "version": 3
   },
   "file_extension": ".py",
   "mimetype": "text/x-python",
   "name": "python",
   "nbconvert_exporter": "python",
   "pygments_lexer": "ipython3",
   "version": "3.12.3"
  }
 },
 "nbformat": 4,
 "nbformat_minor": 2
}
